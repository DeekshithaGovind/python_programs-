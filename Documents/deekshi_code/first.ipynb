{
 "cells": [
  {
   "cell_type": "code",
   "execution_count": null,
   "id": "7da853a6-2598-4fb1-9e95-348adcfc5c51",
   "metadata": {},
   "outputs": [],
   "source": [
    "\n",
    "def input_student_details():\n",
    "  name = input(\"Enter student's name: \")\n",
    "  usn = input(\"Enter student's USN: \")\n",
    "  marks = []\n",
    "  for i in range(1, 4):\n",
    "    mark = float(input(f\"Enter marks for subject {i}: \"))\n",
    "    marks.append(mark)\n",
    "  return name, usn, marks\n",
    "\n",
    "def calculate_results(marks):\n",
    "  total_marks = sum(marks)\n",
    "  percentage = (total_marks / 300) * 100  # Assuming each subject is out of 100 marks\n",
    "  return total_marks, percentage\n",
    "\n",
    "def display_student_details(name, usn, total_marks, percentage):\n",
    "  print(\"\\n--- Student Details ---\")\n",
    "  print(f\"Name: {name}\")\n",
    "  print(f\"USN: {usn}\")\n",
    "  print(f\"Total Marks1: {total_marks}\")\n",
    "  print(f\"Percentage: {percentage:.2f}%\")\n",
    "\n",
    "name, usn, marks = input_student_details()\n",
    "total_marks, percentage = calculate_results(marks)\n",
    "display_student_details(name, usn, total_marks, percentage)"
   ]
  }
 ],
 "metadata": {
  "kernelspec": {
   "display_name": "Python 3 (ipykernel)",
   "language": "python",
   "name": "python3"
  },
  "language_info": {
   "codemirror_mode": {
    "name": "ipython",
    "version": 3
   },
   "file_extension": ".py",
   "mimetype": "text/x-python",
   "name": "python",
   "nbconvert_exporter": "python",
   "pygments_lexer": "ipython3",
   "version": "3.12.4"
  }
 },
 "nbformat": 4,
 "nbformat_minor": 5
}
